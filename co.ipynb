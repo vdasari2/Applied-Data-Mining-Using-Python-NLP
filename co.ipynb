{
 "cells": [
  {
   "cell_type": "code",
   "execution_count": 101,
   "metadata": {},
   "outputs": [
    {
     "name": "stdout",
     "output_type": "stream",
     "text": [
      "Page: 1 Number of Positions: 15\n",
      "Senior Data Analyst 06/18/2024\n",
      "Page: 2 Number of Positions: 15\n",
      "Page: 3 Number of Positions: 15\n",
      "Page: 4 Number of Positions: 15\n",
      "Business Director-Card Technology Strategy 06/18/2024\n",
      "Page: 5 Number of Positions: 15\n",
      "Page: 6 Number of Positions: 15\n",
      "Page: 7 Number of Positions: 15\n",
      "Page: 8 Number of Positions: 15\n",
      "Principal Associate, Risk Management (Card) (Hybrid) 06/18/2024\n",
      "Page: 9 Number of Positions: 15\n",
      "Page: 10 Number of Positions: 15\n"
     ]
    }
   ],
   "source": [
    "import selenium \n",
    "from selenium import webdriver\n",
    "from selenium.webdriver.chrome.service import Service\n",
    "from selenium.webdriver.chrome.options import Options\n",
    "from webdriver_manager.chrome import ChromeDriverManager\n",
    "from selenium.webdriver.common.keys import Keys\n",
    "from selenium.webdriver.support.ui import Select\n",
    "from selenium.webdriver.common.by import By\n",
    "import time\n",
    "from tokenize import String\n",
    "from selenium.webdriver.support.ui import WebDriverWait\n",
    "from selenium.webdriver.common.by import By\n",
    "from selenium.webdriver.support import expected_conditions as EC\n",
    "from selenium.webdriver.remote.webelement import WebElement\n",
    "from selenium.common.exceptions import StaleElementReferenceException, NoSuchElementException, NoSuchWindowException\n",
    "import re\n",
    "import json\n",
    "import csv\n",
    "from webdriver_manager.chrome import ChromeDriverManager\n",
    "from selenium.webdriver.chrome.options import Options\n",
    "import pandas as pd\n",
    "\n",
    "driver = webdriver.Safari()\n",
    "driver.get(\"https://www.capitalonecareers.com/search-jobs/Analyst/234/1\")\n",
    "time.sleep(5)\n",
    "cookies_accept = driver.find_element(By.XPATH, \"//button[@id='system-ialert-button']\")\n",
    "cookies_accept.click()\n",
    "time.sleep(5)\n",
    "\n",
    "num_of_pages = driver.find_elements(By.XPATH, \"//section[@id='search-results-list']//div[@class='pagination-page-count']//span\")\n",
    "for span in num_of_pages:\n",
    "    name = span.text\n",
    "    name = name[3:5]\n",
    "# count_positions = driver.find_elements(By.XPATH, \"//section[@id='search-results-list']//ul//li\")\n",
    "# print(count_positions)\n",
    "df = pd.DataFrame(columns=['Position Name','Date Opened','Page Found'])\n",
    "count = 0\n",
    "for i in range(1,int(name)+1):\n",
    "    count_positions = driver.find_elements(By.XPATH, \"//section[@id='search-results-list']//ul//li\")  \n",
    "    print(\"Page:\",i,\"Number of Positions:\",len(count_positions))\n",
    "    for j in range(1,int(len(count_positions))+1):\n",
    "        # time.sleep(5)\n",
    "        position_name = driver.find_elements(By.XPATH, f\"//section[@id='search-results-list']//ul//li[{j}]//h2\")\n",
    "        # time.sleep(2)\n",
    "        posted_date = driver.find_elements(By.XPATH, f\"//section[@id='search-results-list']//ul//li[{j}]//div//span[2]\")\n",
    "        # time.sleep(2)\n",
    "        for x in position_name:\n",
    "            for y in posted_date:\n",
    "                if y.text == \"06/18/2024\":\n",
    "                    count = count + 1 \n",
    "                    print(x.text,y.text)\n",
    "                    df.loc[count] = [x.text,y.text,i]\n",
    "                else:\n",
    "                    continue\n",
    "    if i != 11:\n",
    "        next_page = driver.find_element(By.XPATH, \"//a[@class='next']\")\n",
    "        next_page.click()\n",
    "        time.sleep(3)\n",
    "    else:\n",
    "        break"
   ]
  },
  {
   "cell_type": "code",
   "execution_count": 102,
   "metadata": {},
   "outputs": [
    {
     "data": {
      "text/html": [
       "<div>\n",
       "<style scoped>\n",
       "    .dataframe tbody tr th:only-of-type {\n",
       "        vertical-align: middle;\n",
       "    }\n",
       "\n",
       "    .dataframe tbody tr th {\n",
       "        vertical-align: top;\n",
       "    }\n",
       "\n",
       "    .dataframe thead th {\n",
       "        text-align: right;\n",
       "    }\n",
       "</style>\n",
       "<table border=\"1\" class=\"dataframe\">\n",
       "  <thead>\n",
       "    <tr style=\"text-align: right;\">\n",
       "      <th></th>\n",
       "      <th>Position Name</th>\n",
       "      <th>Date Opened</th>\n",
       "      <th>Page Found</th>\n",
       "    </tr>\n",
       "  </thead>\n",
       "  <tbody>\n",
       "    <tr>\n",
       "      <th>1</th>\n",
       "      <td>Senior Data Analyst</td>\n",
       "      <td>06/18/2024</td>\n",
       "      <td>1</td>\n",
       "    </tr>\n",
       "    <tr>\n",
       "      <th>2</th>\n",
       "      <td>Business Director-Card Technology Strategy</td>\n",
       "      <td>06/18/2024</td>\n",
       "      <td>4</td>\n",
       "    </tr>\n",
       "    <tr>\n",
       "      <th>3</th>\n",
       "      <td>Principal Associate, Risk Management (Card) (H...</td>\n",
       "      <td>06/18/2024</td>\n",
       "      <td>8</td>\n",
       "    </tr>\n",
       "  </tbody>\n",
       "</table>\n",
       "</div>"
      ],
      "text/plain": [
       "                                       Position Name Date Opened  Page Found\n",
       "1                                Senior Data Analyst  06/18/2024           1\n",
       "2         Business Director-Card Technology Strategy  06/18/2024           4\n",
       "3  Principal Associate, Risk Management (Card) (H...  06/18/2024           8"
      ]
     },
     "execution_count": 102,
     "metadata": {},
     "output_type": "execute_result"
    }
   ],
   "source": [
    "df"
   ]
  },
  {
   "cell_type": "markdown",
   "metadata": {},
   "source": []
  }
 ],
 "metadata": {
  "kernelspec": {
   "display_name": "Python 3.11.3 64-bit",
   "language": "python",
   "name": "python3"
  },
  "language_info": {
   "codemirror_mode": {
    "name": "ipython",
    "version": 3
   },
   "file_extension": ".py",
   "mimetype": "text/x-python",
   "name": "python",
   "nbconvert_exporter": "python",
   "pygments_lexer": "ipython3",
   "version": "3.11.3"
  },
  "orig_nbformat": 4,
  "vscode": {
   "interpreter": {
    "hash": "b0fa6594d8f4cbf19f97940f81e996739fb7646882a419484c72d19e05852a7e"
   }
  }
 },
 "nbformat": 4,
 "nbformat_minor": 2
}
