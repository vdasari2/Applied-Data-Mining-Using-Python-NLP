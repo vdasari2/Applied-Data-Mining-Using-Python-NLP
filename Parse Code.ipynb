{
 "cells": [
  {
   "cell_type": "code",
   "execution_count": 3,
   "metadata": {},
   "outputs": [
    {
     "name": "stdout",
     "output_type": "stream",
     "text": [
      "Total Number of Positions 16\n",
      "['https://recruiting.ultipro.com/LEN1003LNDP/JobBoard/89cd4514-2b48-471d-b3a7-376fc03c48da/OpportunityDetail?opportunityId=3d0c7fd0-f629-4749-bbcc-6cfdfe4bf505']\n",
      "['https://recruiting.ultipro.com/LEN1003LNDP/JobBoard/89cd4514-2b48-471d-b3a7-376fc03c48da/OpportunityDetail?opportunityId=3d0c7fd0-f629-4749-bbcc-6cfdfe4bf505', 'https://recruiting.ultipro.com/LEN1003LNDP/JobBoard/89cd4514-2b48-471d-b3a7-376fc03c48da/OpportunityDetail?opportunityId=1f653029-08a1-4d30-bbe8-157ffa772cbf']\n",
      "['https://recruiting.ultipro.com/LEN1003LNDP/JobBoard/89cd4514-2b48-471d-b3a7-376fc03c48da/OpportunityDetail?opportunityId=3d0c7fd0-f629-4749-bbcc-6cfdfe4bf505', 'https://recruiting.ultipro.com/LEN1003LNDP/JobBoard/89cd4514-2b48-471d-b3a7-376fc03c48da/OpportunityDetail?opportunityId=1f653029-08a1-4d30-bbe8-157ffa772cbf']\n"
     ]
    }
   ],
   "source": [
    "#Code to Scrap Data from websites   \n",
    "import json\n",
    "import selenium\n",
    "from selenium import webdriver\n",
    "from selenium.webdriver.common.by import By\n",
    "from webdriver_manager.chrome import ChromeDriverManager\n",
    "from datetime import date\n",
    "import time\n",
    "import spacy \n",
    "\n",
    "f = open('companieslist.json')\n",
    "# positionname = ['Business Analyst','Data Analyst','Data Science Analyst']\n",
    "positionname = ['SDE','Software Developer','Front End Developer','Back End Developer','Senior Developer']\n",
    "data = json.load(f)\n",
    "f.close() \n",
    "for (k, v) in data.items(): \n",
    "   driver = webdriver.Safari()  \n",
    "   driver.get(str(v))  \n",
    "   time.sleep(2) \n",
    "   length = driver.find_elements(By.XPATH, \"//div[@data-bind='foreach: opportunities']/div\")\n",
    "   print(\"Total Number of Positions\",len(length))\n",
    "   time.sleep(4)  \n",
    "   listofpositions = [] \n",
    "   for i in range(0,len(length)): \n",
    "      rolename = driver.find_element(By.XPATH, f\"//div[@data-bind='foreach: opportunities']//div[@id='Opportunity{i}']//div[@class='row']//div[1]//h3//a\")\n",
    "      x = rolename.text.strip()\n",
    "      # print(x)\n",
    "      printlink = driver.find_element(By.XPATH, f\"//div[@data-bind='foreach: opportunities']//div[@id='Opportunity{i}']//div[@class='row']//div//h3//a\").get_attribute(\"href\")\n",
    "      # print(printlink)\n",
    "      name = driver.find_element(By.XPATH, f\"//div[@data-bind='foreach: opportunities']//div[@id='Opportunity{i}']//div[@class='row']//div[2]//h3\")\n",
    "      # print(name.text.strip())\n",
    "      if (name.text.strip() == \"Today\"): \n",
    "         listofpositions.append(printlink) \n",
    "         #print(listofpositions)\n",
    "      else:\n",
    "         continue\n",
    "   driver.close() \n",
    "   if(len(listofpositions) == 0):\n",
    "      print(\"No new positions opened today\")\n",
    "   else:\n",
    "      print(listofpositions)\n",
    "   for i in range(len(listofpositions)):\n",
    "      driver = webdriver.Safari()\n",
    "      driver.get(str(listofpositions[i]))  \n",
    "      time.sleep(3)\n",
    "      driver.close()"
   ]
  },
  {
   "cell_type": "code",
   "execution_count": 4,
   "metadata": {},
   "outputs": [
    {
     "name": "stdout",
     "output_type": "stream",
     "text": [
      "['https://recruiting.ultipro.com/LEN1003LNDP/JobBoard/89cd4514-2b48-471d-b3a7-376fc03c48da/OpportunityDetail?opportunityId=3d0c7fd0-f629-4749-bbcc-6cfdfe4bf505', 'https://recruiting.ultipro.com/LEN1003LNDP/JobBoard/89cd4514-2b48-471d-b3a7-376fc03c48da/OpportunityDetail?opportunityId=1f653029-08a1-4d30-bbe8-157ffa772cbf']\n"
     ]
    }
   ],
   "source": [
    "print(listofpositions)"
   ]
  },
  {
   "cell_type": "code",
   "execution_count": null,
   "metadata": {},
   "outputs": [],
   "source": [
    "import spacy\n",
    "\n",
    "# Load the spaCy language model\n",
    "nlp = spacy.load(r'/Users/vishnupreethamreddydasari/anaconda3/lib/python3.11/site-packages/en_core_web_sm/en_core_web_sm-3.7.0')\n",
    "\n",
    "# Define the list of role names\n",
    "rolename = ['Business Analyst', 'Data Analyst', 'Data Science Analyst','Software Developer']\n",
    "positionname = ['SDE','Software Developer','Front End Developer','Back End Developer','Senior Developer']\n",
    "\n",
    "# Text to search for\n",
    "search_term = 'Senior Software Developer'\n",
    "\n",
    "# Tokenize the search term\n",
    "search_term_tokens = nlp(search_term)\n",
    "\n",
    "# Iterate through the role names and check for similarity\n",
    "for role in rolename:\n",
    "    role_tokens = nlp(role)\n",
    "    similarity = search_term_tokens.similarity(role_tokens)\n",
    "    \n",
    "    if similarity >= 0.85:  # You can adjust the similarity threshold as needed\n",
    "        print(f\"'{search_term}' is similar to '{role}'\")\n"
   ]
  },
  {
   "cell_type": "code",
   "execution_count": null,
   "metadata": {},
   "outputs": [],
   "source": [
    "#Code to send email with links to latest open positions. \n",
    "import smtplib\n",
    "import ssl\n",
    "from email.mime.multipart import MIMEMultipart\n",
    "from email.mime.text import MIMEText\n",
    "\n",
    "def emailprocess(listofpositions):\n",
    "   # Email configuration\n",
    "   smtp_server = \"smtp.gmail.com\"\n",
    "   smtp_port = 465  \n",
    "   email_sender = \"vishnupreethamreddy@gmail.com\"\n",
    "   email_password = \"\"\n",
    "   email_receiver = \"vdasarireddy2@gmail.com\"\n",
    "   subject = \"Open Positions Alert!!\"\n",
    "   message = f\"These are following positions opened in lending point. {listofpositions}\"\n",
    "\n",
    "   # Create an instance of MIMEMultipart\n",
    "   msg = MIMEMultipart()\n",
    "   msg['From'] = email_sender\n",
    "   msg['To'] = email_receiver\n",
    "   msg['Subject'] = subject\n",
    "\n",
    "   # Attach the message to the email\n",
    "   msg.attach(MIMEText(message, 'plain'))\n",
    "\n",
    "   context = ssl.create_default_context()\n",
    "\n",
    "   # Create an SMTP_SSL connection\n",
    "   with smtplib.SMTP_SSL(smtp_server, smtp_port, context=context) as smtp:\n",
    "      smtp.login(email_sender, email_password)\n",
    "      smtp.sendmail(email_sender, email_receiver, msg.as_string())\n",
    "\n",
    "   print(\"Email sent successfully!\")\n",
    "\n",
    "emailprocess(listofpositions)"
   ]
  },
  {
   "cell_type": "code",
   "execution_count": null,
   "metadata": {},
   "outputs": [],
   "source": []
  }
 ],
 "metadata": {
  "kernelspec": {
   "display_name": "Python 3.11.3 64-bit",
   "language": "python",
   "name": "python3"
  },
  "language_info": {
   "codemirror_mode": {
    "name": "ipython",
    "version": 3
   },
   "file_extension": ".py",
   "mimetype": "text/x-python",
   "name": "python",
   "nbconvert_exporter": "python",
   "pygments_lexer": "ipython3",
   "version": "3.11.3"
  },
  "orig_nbformat": 4,
  "vscode": {
   "interpreter": {
    "hash": "b0fa6594d8f4cbf19f97940f81e996739fb7646882a419484c72d19e05852a7e"
   }
  }
 },
 "nbformat": 4,
 "nbformat_minor": 2
}
