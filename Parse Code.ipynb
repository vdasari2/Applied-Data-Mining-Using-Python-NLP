{
 "cells": [
  {
   "cell_type": "code",
   "execution_count": null,
   "metadata": {},
   "outputs": [],
   "source": [
    "import json\n",
    "import selenium\n",
    "from selenium import webdriver\n",
    "from selenium.webdriver.common.by import By\n",
    "from webdriver_manager.chrome import ChromeDriverManager\n",
    "from datetime import date\n",
    "import time\n",
    "\n",
    "f = open('companieslist.json')\n",
    "data = json.load(f)\n",
    "f.close()\n",
    "for (k, v) in data.items():\n",
    "   driver = webdriver.Chrome()\n",
    "   driver.get(str(v)) \n",
    "   length = driver.find_elements(By.XPATH, \"//div[@data-bind='foreach: opportunities']/div\")\n",
    "   print(\"Total Number of Positions\",len(length))\n",
    "   time.sleep(4) \n",
    "   listofpositions = [] \n",
    "   for i in range(0,len(length)): \n",
    "      printlink = driver.find_element(By.XPATH, f\"//div[@data-bind='foreach: opportunities']//div[@id='Opportunity{i}']//div[@class='row']//div//h3//a\").get_attribute(\"href\")\n",
    "      name = driver.find_element(By.XPATH, f\"//div[@data-bind='foreach: opportunities']//div[@id='Opportunity{i}']//div[@class='row']//div[2]//h3\")\n",
    "      if (name.text == \"Oct 27, 2023\"): \n",
    "         listofpositions.append(printlink) \n",
    "      else:\n",
    "         continue\n",
    "   driver.close()\n",
    "   for i in range(len(listofpositions)):\n",
    "      driver = webdriver.Chrome()\n",
    "      driver.get(str(listofpositions[i]))  \n",
    "      time.sleep(3)\n",
    "\n",
    "# with open(\"SMTP.py\") as f:\n",
    "#    exec(f.read())\n"
   ]
  },
  {
   "cell_type": "code",
   "execution_count": 16,
   "metadata": {},
   "outputs": [],
   "source": []
  },
  {
   "cell_type": "code",
   "execution_count": null,
   "metadata": {},
   "outputs": [],
   "source": []
  },
  {
   "cell_type": "code",
   "execution_count": null,
   "metadata": {},
   "outputs": [],
   "source": []
  }
 ],
 "metadata": {
  "kernelspec": {
   "display_name": "Python 3.11.3 64-bit",
   "language": "python",
   "name": "python3"
  },
  "language_info": {
   "codemirror_mode": {
    "name": "ipython",
    "version": 3
   },
   "file_extension": ".py",
   "mimetype": "text/x-python",
   "name": "python",
   "nbconvert_exporter": "python",
   "pygments_lexer": "ipython3",
   "version": "3.11.3"
  },
  "orig_nbformat": 4,
  "vscode": {
   "interpreter": {
    "hash": "b0fa6594d8f4cbf19f97940f81e996739fb7646882a419484c72d19e05852a7e"
   }
  }
 },
 "nbformat": 4,
 "nbformat_minor": 2
}
